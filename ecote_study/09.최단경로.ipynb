{
  "nbformat": 4,
  "nbformat_minor": 0,
  "metadata": {
    "colab": {
      "provenance": [],
      "authorship_tag": "ABX9TyNRu4h1UxQg5uWd1u6KOgkS"
    },
    "kernelspec": {
      "name": "python3",
      "display_name": "Python 3"
    },
    "language_info": {
      "name": "python"
    }
  },
  "cells": [
    {
      "cell_type": "markdown",
      "source": [
        "### 최단 경로 알고리즘\n",
        "말 그대로 가장 짧은 경로를 찾는 알고리즘  \n",
        "종류\n",
        "* 다익스트라 최단 경로 알고리즘\n",
        "* 플로이드 워셜 알고리즘 \n",
        "* 벨만 포드 알고리즘  \n"
      ],
      "metadata": {
        "id": "Y0IEMsVFzBgp"
      }
    },
    {
      "cell_type": "markdown",
      "source": [
        "#### 다익스트라 최단 경로 알고리즘\n",
        "그래프에서 여러 개의 노드가 있을 때, 특정 노드에서 출발해서 다른 노드로 가는 최단 경로를 구하는 알고리즘  \n",
        "0보다 작은 값을 가지는 음의 간선이 없을 때 정상적으로 동작  \n",
        "가장 비용이 적은 노드를 선택해서 임의의 과정을 반복하는 그리디 알고리즘  \n"
      ],
      "metadata": {
        "id": "l-YU3Teaza6p"
      }
    },
    {
      "cell_type": "markdown",
      "source": [
        "##### 방법1. 간단한 다익스트라 알고리즘\n",
        "O(V^2)의 시간 복잡도를 가지고 있음  \n",
        "V는 노드의 개수  \n",
        "구현 방법   \n",
        "1. 각 노드에 대한 최단 거리를 담는 1차원 리스트 선언\n",
        "2. 각 단계별 방문하지 않은 노드 중에서 최단 거리가 가장 짧은 노드의 선택을 위해 1차원 리스트의 모든 원소를 확인"
      ],
      "metadata": {
        "id": "lbxCGRQx1QKK"
      }
    },
    {
      "cell_type": "code",
      "execution_count": null,
      "metadata": {
        "id": "vBpGe6Cxyyip"
      },
      "outputs": [],
      "source": [
        "import sys\n",
        "# input보다 더 빠르게 동작함\n",
        "input = sys.stdin.readline\n",
        "# 무한을 의미하는 값으로 10억을 설정\n",
        "INF = int(1e9)\n",
        "\n",
        "# 노드의 개수, 간선의 개수 입력받기\n",
        "n, m = map(int, input().split())\n",
        "# 시작 노드의 번호를 입력받기\n",
        "start = int(input())\n",
        "\n",
        "# 각 노드에 연결되어 있는 노드에 대한 정보를 담는 리스트 만들기 \n",
        "graph = [[] for i in range(n+1)]\n",
        "# 방문한 적이 있는지 체크하는 목적의 리스트를 만들기\n",
        "visited = [False] * (n+1)\n",
        "# 최단거리 테이블을 모두 무한으로 초기화\n",
        "distance = [INF]* (n+1)\n",
        "\n",
        "# 모든 간선 정보를 입력받기\n",
        "for _ in range(m):\n",
        "  # a에서 b노드로 가는 비용이 c\n",
        "  a,b,c = map(int, input().split())\n",
        "  graph[a].append((b,c))\n",
        "\n",
        "# 방문하지 않은 노드 중에서, 가장 최단거리가 짧은 노드의 번호를 반환\n",
        "def get_smallest_node():\n",
        "  min_value = INF\n",
        "  # 가장 최단거리가 짧은 노드(인덱스)\n",
        "  index = 0 \n",
        "  for i in range(1, n+1):\n",
        "    if distance[i] < min_value and not visited[i]:\n",
        "      min_value = distance[i]\n",
        "      index=i\n",
        "  return index\n",
        "\n",
        "def dijkstra(start):\n",
        "  # 시작 노드에 대해서 초기화\n",
        "  distance[start] = 0\n",
        "  visited[start] = True\n",
        "  for j in graph[start]:\n",
        "    distance[j[0]] = j[1]\n",
        "  # 시작 노드를 제외한 전체 n-1개의 노드에 대해서 반복\n",
        "  for i in range(n-1):\n",
        "    # 현재 최단거리가 가장 짧은 노드를 꺼내서, 방문처리\n",
        "    now = get_smallest_node()\n",
        "    visited[now] = True\n",
        "    # 현재 노드와 연결된 다른 노드들 확인\n",
        "    for j in graph[now]:\n",
        "      cost = distance[now] + j[1]\n",
        "      # 현재 노드를 거쳐서 다른 노드로 이동하는 거리가 더 짧은 경우\n",
        "      if cost < distance[j[0]]:\n",
        "        distance[j[0]] = cost \n",
        "\n",
        "# 다익스트라 알고리즘 수행\n",
        "dijkstra(start)\n",
        "\n",
        "# 모든 노드로 가기 위한 최단 거리를 출력\n",
        "for i in range(1,n+1):\n",
        "  # 도달할 수 없는 경우 무한으로 출력 \n",
        "  if distance[i] == INF:\n",
        "    print(\"INFINITY\")\n",
        "  else : \n",
        "    print(distance[i])"
      ]
    }
  ]
}