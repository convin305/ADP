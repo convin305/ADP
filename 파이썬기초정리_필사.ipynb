{
  "nbformat": 4,
  "nbformat_minor": 0,
  "metadata": {
    "colab": {
      "name": "파이썬기초정리_필사.ipynb",
      "provenance": [],
      "collapsed_sections": []
    },
    "kernelspec": {
      "name": "python3",
      "display_name": "Python 3"
    },
    "language_info": {
      "name": "python"
    }
  },
  "cells": [
    {
      "cell_type": "markdown",
      "source": [
        "참고 : https://github.com/H2O-500ml/ADP/blob/master/03_Python_%EA%B8%B0%EC%B4%88%EC%A0%95%EB%A6%AC.ipynb"
      ],
      "metadata": {
        "id": "0ZaIR6niFCKj"
      }
    },
    {
      "cell_type": "code",
      "execution_count": 2,
      "metadata": {
        "colab": {
          "base_uri": "https://localhost:8080/",
          "height": 35
        },
        "id": "cGobIAQ6CLXi",
        "outputId": "cf9ce450-396e-4247-f508-d806b9b0635f"
      },
      "outputs": [
        {
          "output_type": "execute_result",
          "data": {
            "application/vnd.google.colaboratory.intrinsic+json": {
              "type": "string"
            },
            "text/plain": [
              "'/content'"
            ]
          },
          "metadata": {},
          "execution_count": 2
        }
      ],
      "source": [
        "# 워킹 디렉토리 확인\n",
        "import os\n",
        "os.getcwd()"
      ]
    },
    {
      "cell_type": "code",
      "source": [
        "# 메모리 리셋\n",
        "%reset"
      ],
      "metadata": {
        "colab": {
          "base_uri": "https://localhost:8080/"
        },
        "id": "AjR5qiRPCd3h",
        "outputId": "9517ed4a-c30e-4730-88ab-d7598591ca63"
      },
      "execution_count": 3,
      "outputs": [
        {
          "name": "stdout",
          "output_type": "stream",
          "text": [
            "Once deleted, variables cannot be recovered. Proceed (y/[n])? y\n"
          ]
        }
      ]
    },
    {
      "cell_type": "code",
      "source": [
        "import pandas as pd\n",
        "\n",
        "# 객체 속성 및 매소드 정보 확인\n",
        "dir(pd)\n",
        "\n",
        "# 함수 사용법 확인\n",
        "help(int)"
      ],
      "metadata": {
        "id": "eVXXaQ5gCqBg"
      },
      "execution_count": null,
      "outputs": []
    },
    {
      "cell_type": "code",
      "source": [
        "# 도움말 찾기\n",
        "a = 'string' \n",
        "dir(a) # a라는 변수에 쓸 수 있는 매소드 조회"
      ],
      "metadata": {
        "colab": {
          "base_uri": "https://localhost:8080/"
        },
        "id": "eDzufTnyCwPR",
        "outputId": "af725701-5fea-42bb-e1e7-8aba024cdffd"
      },
      "execution_count": 6,
      "outputs": [
        {
          "output_type": "execute_result",
          "data": {
            "text/plain": [
              "['__add__',\n",
              " '__class__',\n",
              " '__contains__',\n",
              " '__delattr__',\n",
              " '__dir__',\n",
              " '__doc__',\n",
              " '__eq__',\n",
              " '__format__',\n",
              " '__ge__',\n",
              " '__getattribute__',\n",
              " '__getitem__',\n",
              " '__getnewargs__',\n",
              " '__gt__',\n",
              " '__hash__',\n",
              " '__init__',\n",
              " '__init_subclass__',\n",
              " '__iter__',\n",
              " '__le__',\n",
              " '__len__',\n",
              " '__lt__',\n",
              " '__mod__',\n",
              " '__mul__',\n",
              " '__ne__',\n",
              " '__new__',\n",
              " '__reduce__',\n",
              " '__reduce_ex__',\n",
              " '__repr__',\n",
              " '__rmod__',\n",
              " '__rmul__',\n",
              " '__setattr__',\n",
              " '__sizeof__',\n",
              " '__str__',\n",
              " '__subclasshook__',\n",
              " 'capitalize',\n",
              " 'casefold',\n",
              " 'center',\n",
              " 'count',\n",
              " 'encode',\n",
              " 'endswith',\n",
              " 'expandtabs',\n",
              " 'find',\n",
              " 'format',\n",
              " 'format_map',\n",
              " 'index',\n",
              " 'isalnum',\n",
              " 'isalpha',\n",
              " 'isascii',\n",
              " 'isdecimal',\n",
              " 'isdigit',\n",
              " 'isidentifier',\n",
              " 'islower',\n",
              " 'isnumeric',\n",
              " 'isprintable',\n",
              " 'isspace',\n",
              " 'istitle',\n",
              " 'isupper',\n",
              " 'join',\n",
              " 'ljust',\n",
              " 'lower',\n",
              " 'lstrip',\n",
              " 'maketrans',\n",
              " 'partition',\n",
              " 'replace',\n",
              " 'rfind',\n",
              " 'rindex',\n",
              " 'rjust',\n",
              " 'rpartition',\n",
              " 'rsplit',\n",
              " 'rstrip',\n",
              " 'split',\n",
              " 'splitlines',\n",
              " 'startswith',\n",
              " 'strip',\n",
              " 'swapcase',\n",
              " 'title',\n",
              " 'translate',\n",
              " 'upper',\n",
              " 'zfill']"
            ]
          },
          "metadata": {},
          "execution_count": 6
        }
      ]
    },
    {
      "cell_type": "code",
      "source": [
        "# a 변수에 upper method 설명\n",
        "help(a.upper)"
      ],
      "metadata": {
        "colab": {
          "base_uri": "https://localhost:8080/"
        },
        "id": "EXri4xURC7_O",
        "outputId": "0748358b-8e9e-4d66-b80a-e0c6fabf1e4c"
      },
      "execution_count": 8,
      "outputs": [
        {
          "output_type": "stream",
          "name": "stdout",
          "text": [
            "Help on built-in function upper:\n",
            "\n",
            "upper() method of builtins.str instance\n",
            "    Return a copy of the string converted to uppercase.\n",
            "\n"
          ]
        }
      ]
    },
    {
      "cell_type": "markdown",
      "source": [
        "기본 분석 환경 세팅"
      ],
      "metadata": {
        "id": "7eOeHr9cDGRH"
      }
    },
    {
      "cell_type": "code",
      "source": [
        "import pandas as pd\n",
        "import numpy as np\n",
        "import seaborn as sns\n",
        "import matplotlib.pyplot as plt"
      ],
      "metadata": {
        "id": "WEhrjOwcDA9G"
      },
      "execution_count": 9,
      "outputs": []
    },
    {
      "cell_type": "code",
      "source": [
        "# print를 하지 않아도 행을 모두 보여줌\n",
        "from IPython.core.interactiveshell import InteractiveShell\n",
        "InteractiveShell.ast_node_interactivy = 'all'"
      ],
      "metadata": {
        "id": "4c3JEe0wDUxJ"
      },
      "execution_count": 10,
      "outputs": []
    },
    {
      "cell_type": "code",
      "source": [
        "# columns 를 생략없이 모두 보여줌\n",
        "from IPython.display import display\n",
        "pd.options.display.max_columns = None"
      ],
      "metadata": {
        "id": "iBsmC_dYDgOo"
      },
      "execution_count": 11,
      "outputs": []
    },
    {
      "cell_type": "code",
      "source": [
        "# 한글 표기 \n",
        "%matplotlib inline\n",
        "import platform\n",
        "\n",
        "from matplotlib import font_manager, rc\n",
        "plt.rcParams['axes.unicode_minus'] = False\n",
        "\n",
        "# 시스템 OS이름을 반환. 값을 판별할 수 없으면 빈 문자열 반환\n",
        "# Linux : 리눅스, Darwin : 맥, Windows : 윈도우\n",
        "if platform.system() == 'Darwin':\n",
        "  rc('font',family = 'AppleGothic')\n",
        "elif platform.system() == 'Windows':\n",
        "  path = 'C:/Windows/Fonts/malgun.ttf'\n",
        "  font_name = font_manager.FontProperties(fname = path).get_name()\n",
        "  rc('font',family = font_name)\n",
        "else : \n",
        "  print('Unknown System')"
      ],
      "metadata": {
        "colab": {
          "base_uri": "https://localhost:8080/"
        },
        "id": "1Y3RyWqyDoxY",
        "outputId": "8bba7ea8-f298-423e-c8b2-000681b37174"
      },
      "execution_count": 12,
      "outputs": [
        {
          "output_type": "stream",
          "name": "stdout",
          "text": [
            "Unknown System\n"
          ]
        }
      ]
    },
    {
      "cell_type": "code",
      "source": [
        "platform.system() # gkggkt"
      ],
      "metadata": {
        "colab": {
          "base_uri": "https://localhost:8080/",
          "height": 35
        },
        "id": "xcoZhmodF5C3",
        "outputId": "fee3c1ce-0805-4897-86c0-40a9fb741780"
      },
      "execution_count": 13,
      "outputs": [
        {
          "output_type": "execute_result",
          "data": {
            "application/vnd.google.colaboratory.intrinsic+json": {
              "type": "string"
            },
            "text/plain": [
              "'Linux'"
            ]
          },
          "metadata": {},
          "execution_count": 13
        }
      ]
    },
    {
      "cell_type": "markdown",
      "source": [
        "파일읽기"
      ],
      "metadata": {
        "id": "PBn2B7vDGGHZ"
      }
    },
    {
      "cell_type": "code",
      "source": [
        "# read_csv : csv, tsv, txt\n",
        "pd.read_csv('경로 / 파일이름.csv', encoding = 'cp949')\n",
        "## params \n",
        "# header = True : 변수명 있을 시 불러옴\n",
        "# naems = [~] : 변수명 직접추가\n",
        "# encoding : cp949, utf-8, euc-kr\n",
        "# sep = ''\n",
        "# 경우에 따라 engin = 'python'\n",
        "# skipinitialspace = True : 구분자 양쪽 공백 제거\n",
        "\n",
        "# tsv read의 경우 delimiter = '\\t'\n",
        "\n",
        "# to_csv\n",
        "df.to_csv('경로/파일이름.csv', header = True, index=False, encoding='cp949')"
      ],
      "metadata": {
        "id": "myrexJJjGFaz"
      },
      "execution_count": null,
      "outputs": []
    },
    {
      "cell_type": "code",
      "source": [
        "# 확장자가 h5인 경우 - 시계열데이터일 경우가 있음 \n",
        "\n",
        "# read_hdf\n",
        "pd.read_hdf('파일이름.h5',key = '기준컬럼').set_index('날짜형식_컬럼').sort_index()"
      ],
      "metadata": {
        "id": "PqGknP7wF6ex"
      },
      "execution_count": null,
      "outputs": []
    },
    {
      "cell_type": "code",
      "source": [
        "# 기본 open\n",
        "\n",
        "# 읽기\n",
        "f = open('textfile.txt','r') # read mode\n",
        "data = f.read()\n",
        "f.close()\n",
        "\n",
        "# 쓰기\n",
        "f = open('textfile-copy.txt','w')\n",
        "f.write(data)\n",
        "f.close()"
      ],
      "metadata": {
        "id": "RkSbK7UcHIzU"
      },
      "execution_count": null,
      "outputs": []
    },
    {
      "cell_type": "code",
      "source": [
        "# Pickle 활용\n",
        "\n",
        "import pickle\n",
        "\n",
        "# 저장 - Dump\n",
        "data = ['a','b','c']\n",
        "with open('pickle.txt','wb') as f :   # pickle의 경우 모드 뒤에 b를 붙여줘야 함\n",
        "  pickle.dump(data,f)\n",
        "\n",
        "# 불러오기 - Load\n",
        "with open('pickle.txt','rb') as f:\n",
        "  data = pickle.load(f) # 한줄씩 읽어옴\n",
        "data"
      ],
      "metadata": {
        "id": "CwDp6Ye0HnHE"
      },
      "execution_count": null,
      "outputs": []
    },
    {
      "cell_type": "code",
      "source": [
        ""
      ],
      "metadata": {
        "id": "2d062eknHnER"
      },
      "execution_count": null,
      "outputs": []
    },
    {
      "cell_type": "code",
      "source": [
        ""
      ],
      "metadata": {
        "id": "STydCbO_HnCi"
      },
      "execution_count": null,
      "outputs": []
    }
  ]
}